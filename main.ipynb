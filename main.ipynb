{
 "cells": [
  {
   "cell_type": "code",
   "execution_count": null,
   "id": "df5dda74-7e95-40e7-9db7-f3aa81130cb2",
   "metadata": {
    "scrolled": true
   },
   "outputs": [
    {
     "name": "stdout",
     "output_type": "stream",
     "text": [
      "connected successfully\n",
      "\n",
      "\n",
      "\n",
      "\n",
      "Enter 1 to display all the products\n",
      "Enter 2 to display your details\n",
      "Enter 3 to add products into the cart\n",
      "Enter 4 to remove products from the cart\n",
      "Enter 5 to Exit\n",
      "\n"
     ]
    },
    {
     "name": "stdin",
     "output_type": "stream",
     "text": [
      "enter your choice: 1\n"
     ]
    },
    {
     "name": "stdout",
     "output_type": "stream",
     "text": [
      "['Wireless Mouse']\n",
      "['Bluetooth headphones']\n",
      "['Smart watch']\n",
      "['Running Shoes']\n",
      "['Coffee maker']\n",
      "['Vacuum Cleaner']\n",
      "['Yoga Mat']\n",
      "['Water Bottle']\n",
      "['Smartphone']\n",
      "['belt']\n",
      "\n",
      "\n",
      "\n",
      "\n",
      "Enter 1 to display all the products\n",
      "Enter 2 to display your details\n",
      "Enter 3 to add products into the cart\n",
      "Enter 4 to remove products from the cart\n",
      "Enter 5 to Exit\n",
      "\n"
     ]
    },
    {
     "name": "stdin",
     "output_type": "stream",
     "text": [
      "enter your choice: 1\n"
     ]
    },
    {
     "name": "stdout",
     "output_type": "stream",
     "text": [
      "['Wireless Mouse']\n",
      "['Bluetooth headphones']\n",
      "['Smart watch']\n",
      "['Running Shoes']\n",
      "['Coffee maker']\n",
      "['Vacuum Cleaner']\n",
      "['Yoga Mat']\n",
      "['Water Bottle']\n",
      "['Smartphone']\n",
      "['belt']\n",
      "\n",
      "\n",
      "\n",
      "\n",
      "Enter 1 to display all the products\n",
      "Enter 2 to display your details\n",
      "Enter 3 to add products into the cart\n",
      "Enter 4 to remove products from the cart\n",
      "Enter 5 to Exit\n",
      "\n"
     ]
    }
   ],
   "source": [
    "import sqlite3\n",
    "v1=sqlite3.connect(\"data3.db\")\n",
    "print(\"connected successfully\")\n",
    "\n",
    "v2=v1.cursor()\n",
    "\n",
    "def display_all_products():\n",
    "    print(\"the products are listed below\")\n",
    "    v2.execute(\"select name from products\")\n",
    "    display=v2.fetchall()\n",
    "    for i in display:\n",
    "        print(list(i))\n",
    "   \n",
    "def display_details():\n",
    "    num=int(input(\"enter the product to display:\"))\n",
    "    print(\"the product you select is:\")\n",
    "    v2.execute(\"select * from products where product=?\",(num,))\n",
    "    display=v2.fetchone()\n",
    "    print(display)\n",
    "    \n",
    "def add_products():\n",
    "    num1=int(input(\"enter the product id to add:\"))\n",
    "    num2=str(input(\"enter the product name to add:\"))\n",
    "    num3=str(input(\"enter the product description to add:\"))\n",
    "    num4=int(input(\"enter the product prize to add:\"))\n",
    "    num5=str(input(\"enter the product category to add:\"))  \n",
    "    v2.execute(\"insert into products(product,name,description,prize,category) values (?,?,?,?,?)\",(num1,num2,num3,num4,num5))\n",
    "    v1.commit()\n",
    "    print(\"product added\")\n",
    "\n",
    "def remove_products():\n",
    "    num=int(input(\"enter a product id to delete the product:\"))\n",
    "    v2.execute(\"delete from products where product=?\",(num,))\n",
    "    v1.commit()\n",
    "    print(\"product deleted\")\n",
    "    \n",
    "def exit():\n",
    "    print(\"exit successful\")\n",
    "\n",
    "    \n",
    "    \n",
    "while True:\n",
    "    print(\"\\n\\n\\n\\nEnter 1 to display all the products\\n\" \n",
    "      \"Enter 2 to display your details\\n\" \n",
    "      \"Enter 3 to add products into the cart\\n\" \n",
    "      \"Enter 4 to remove products from the cart\\n\" \n",
    "      \"Enter 5 to Exit\\n\")\n",
    "    \n",
    "    \n",
    "    \n",
    "    num=int(input(\"enter your choice:\"))\n",
    "    \n",
    "    if num==1: \n",
    "        display_all_products() \n",
    "    elif num==2:\n",
    "        display_details()\n",
    "    elif num==3:\n",
    "        add_products()   \n",
    "    elif num==4:\n",
    "        remove_products()\n",
    "    elif num>=5:\n",
    "        print(\"Exit successful\")\n",
    "        break\n",
    "    elif type(num=str(input(\"enter your choice:\"))):\n",
    "        print(\"strings cant be used to perform operations\")\n",
    "   \n",
    "   \n",
    "        \n",
    "    "
   ]
  },
  {
   "cell_type": "code",
   "execution_count": null,
   "id": "e01fb270-97b0-40c9-baec-8ed15b14ffe2",
   "metadata": {},
   "outputs": [],
   "source": []
  },
  {
   "cell_type": "code",
   "execution_count": null,
   "id": "ec0c0518",
   "metadata": {},
   "outputs": [],
   "source": []
  }
 ],
 "metadata": {
  "kernelspec": {
   "display_name": "Python 3 (ipykernel)",
   "language": "python",
   "name": "python3"
  },
  "language_info": {
   "codemirror_mode": {
    "name": "ipython",
    "version": 3
   },
   "file_extension": ".py",
   "mimetype": "text/x-python",
   "name": "python",
   "nbconvert_exporter": "python",
   "pygments_lexer": "ipython3",
   "version": "3.12.0"
  }
 },
 "nbformat": 4,
 "nbformat_minor": 5
}
